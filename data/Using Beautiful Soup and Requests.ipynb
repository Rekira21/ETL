<!DOCTYPE html>
<html lang="fr"><head>
<meta http-equiv="content-type" content="text/html; charset=UTF-8">
    <meta charset="utf-8">
    <link href="Using%20Beautiful%20Soup%20and%20Requests_fichiers/v94.min.css" rel="stylesheet" type="text/css">
    <link rel="icon" type="image/png" sizes="32x32" href="https://www.ilboursa.com/i/favicon32.png">
    <meta property="fb:pages" content="296266907136787">
    
    <title>BH BANK : informations, actualités et news - page 3</title>
    <meta name="description" content="BH BANK : toutes les actualités financières, économiques et boursières sur la société en direct de la rédaction - page 3">

    <script async="" type="text/javascript" src="Using%20Beautiful%20Soup%20and%20Requests_fichiers/f_002.txt"></script><script>
        var googletag = googletag || {};
        googletag.cmd = googletag.cmd || [];
        (function () {
            var gads = document.createElement('script');
            gads.async = true;
            gads.type = 'text/javascript';
            var useSSL = 'https:' == document.location.protocol;
            gads.src = (useSSL ? 'https:' : 'http:') +
                '//www.googletagservices.com/tag/js/gpt.js';
            var node = document.getElementsByTagName('script')[0];
            node.parentNode.insertBefore(gads, node);
        })();
    </script>
    <script>
        googletag.cmd.push(function () {
            googletag.defineSlot('/112668056/banner_allsite', [[728, 90], [728, 300], [1000, 300], [1000, 90]], 'div-gpt-ad-1424879557921-0').addService(googletag.pubads());
            googletag.defineSlot('/112668056/square_allsite', [300, 250], 'div-gpt-ad-1424879557921-1').addService(googletag.pubads());
            googletag.defineSlot('/112668056/banner_Ilb2', [[1000, 300], [1000, 90], [728, 90], [970, 90], [1000, 200]], 'div-gpt-ad-1616660604392-0').addService(googletag.pubads());
            googletag.pubads().enableSingleRequest();
            googletag.enableServices();
        });
    </script>

<meta http-equiv="origin-trial" content="AlK2UR5SkAlj8jjdEc9p3F3xuFYlF6LYjAML3EOqw1g26eCwWPjdmecULvBH5MVPoqKYrOfPhYVL71xAXI1IBQoAAAB8eyJvcmlnaW4iOiJodHRwczovL2RvdWJsZWNsaWNrLm5ldDo0NDMiLCJmZWF0dXJlIjoiV2ViVmlld1hSZXF1ZXN0ZWRXaXRoRGVwcmVjYXRpb24iLCJleHBpcnkiOjE3NTgwNjcxOTksImlzU3ViZG9tYWluIjp0cnVlfQ=="><meta http-equiv="origin-trial" content="Amm8/NmvvQfhwCib6I7ZsmUxiSCfOxWxHayJwyU1r3gRIItzr7bNQid6O8ZYaE1GSQTa69WwhPC9flq/oYkRBwsAAACCeyJvcmlnaW4iOiJodHRwczovL2dvb2dsZXN5bmRpY2F0aW9uLmNvbTo0NDMiLCJmZWF0dXJlIjoiV2ViVmlld1hSZXF1ZXN0ZWRXaXRoRGVwcmVjYXRpb24iLCJleHBpcnkiOjE3NTgwNjcxOTksImlzU3ViZG9tYWluIjp0cnVlfQ=="><meta http-equiv="origin-trial" content="A/ERL66fN363FkXxgDc6F1+ucRUkAhjEca9W3la6xaLnD2Y1lABsqmdaJmPNaUKPKVBRpyMKEhXYl7rSvrQw+AkAAACNeyJvcmlnaW4iOiJodHRwczovL2RvdWJsZWNsaWNrLm5ldDo0NDMiLCJmZWF0dXJlIjoiRmxlZGdlQmlkZGluZ0FuZEF1Y3Rpb25TZXJ2ZXIiLCJleHBpcnkiOjE3MTkzNTk5OTksImlzU3ViZG9tYWluIjp0cnVlLCJpc1RoaXJkUGFydHkiOnRydWV9"><meta http-equiv="origin-trial" content="A6OdGH3fVf4eKRDbXb4thXA4InNqDJDRhZ8U533U/roYjp4Yau0T3YSuc63vmAs/8ga1cD0E3A7LEq6AXk1uXgsAAACTeyJvcmlnaW4iOiJodHRwczovL2dvb2dsZXN5bmRpY2F0aW9uLmNvbTo0NDMiLCJmZWF0dXJlIjoiRmxlZGdlQmlkZGluZ0FuZEF1Y3Rpb25TZXJ2ZXIiLCJleHBpcnkiOjE3MTkzNTk5OTksImlzU3ViZG9tYWluIjp0cnVlLCJpc1RoaXJkUGFydHkiOnRydWV9"><script src="Using%20Beautiful%20Soup%20and%20Requests_fichiers/f.txt" async=""></script></head>
<body>
    <header class="fixed">
        <div class="headup">
            <a href="https://www.ilboursa.com/"><img src="Using%20Beautiful%20Soup%20and%20Requests_fichiers/logo_ilboursa2.png" alt="ilboursa" width="380" height="95"></a>
            <a href="https://www.ilboursa.com/ar" target="_blank"><img src="Using%20Beautiful%20Soup%20and%20Requests_fichiers/ilboursaar.gif" class="switchvs" alt="arabic version ilboursa"></a>
        </div>
        <div class="menufixed">
            <div class="container clearfix">
                <a href="https://www.ilboursa.com/"><img src="Using%20Beautiful%20Soup%20and%20Requests_fichiers/logo_small.png" class="logo_s" alt="bourse tunis"></a>
                <div class="menu_head">
                    <ul class="nav_2" id="nav2onglets">
                        <li id="ong_eco" class="droisel_2"><a href="https://www.ilboursa.com/economie/">ECONOMIE</a></li>
                        <li id="ong_bourse" class="droisel_2">
                            <a href="https://www.ilboursa.com/bourse/">BOURSE</a>
                            <ul>
                                <li><a href="https://www.ilboursa.com/marches/actualites_bourse_tunis">Actualités du marché</a></li>
                                <li><a href="https://www.ilboursa.com/marches/aaz">Cotations de A à Z</a></li>
                                <li><a href="https://www.ilboursa.com/marches/convertisseur_devises">Convertisseur de devises</a></li>
                                <li><a href="https://www.ilboursa.com/analyses/synthese_fiches">Fiches conseil</a></li>
                                <li><a href="https://www.ilboursa.com/applet/graphe_dynamique">Graphique dynamique</a></li>
                                <li><a href="https://www.ilboursa.com/marches/devises">Les devises</a></li>
                                <li><a href="https://www.ilboursa.com/analyses/experts_de_leco">Les Experts de l'Eco</a></li>
                                <li><a href="https://www.ilboursa.com/marches/matieres_premieres">Les matières premières</a></li>
                                <li><a href="https://www.ilboursa.com/marches/videos">Les vidéos économiques</a></li>
                                <li><a href="https://www.ilboursa.com/marches/marketmap">Market Map</a></li>
                                <li><a href="https://www.ilboursa.com/marches/palmares">Palmarès de la bourse</a></li>
                                <li><a href="https://www.ilboursa.com/analyses/screening_at">Screening technique</a></li>
                                <li><a href="https://www.ilboursa.com/marches/secteurs">Secteurs d'activité</a></li>
                                <li><a href="https://www.ilboursa.com/backtest/settings">Testez vos stratégies</a></li>
                            </ul>
                        </li>
                        <li id="ong_opc" class="droisel_2"><a href="https://www.ilboursa.com/opcvm/">OPCVM</a></li>
                        <li id="ong_start" class="droisel_2"><a href="https://www.ilboursa.com/startup/">START UP</a></li>
                        <li id="ong_life" class="droisel_2"><a href="https://www.ilboursa.com/lifestyle/">LIFESTYLE</a></li>
                        <li id="ong_afric" class="droisel_2"><a href="https://www.ilboursa.com/afrique/">AFRIQUE</a></li>
                        <li id="ong_commu" class="droisel_2"><a href="https://www.ilboursa.com/forums/displaynewthread">FORUM</a></li>
                    </ul>
                </div>
                <div class="btn_cpte"><a target="_blank" href="https://www.ilboursa.com/fcp/fcp_cea_ilboursa">FCP ILBOURSA CEA</a></div>
            </div>
            <div class="top_log">
                <div class="container2 clearfix">
                    <div id="userShow" class="btn_cx"><a href=""><img src="Using%20Beautiful%20Soup%20and%20Requests_fichiers/pict_login.png"><br><span>CONNEXION</span></a></div>
                    <div class="btn_search"><a href="https://www.ilboursa.com/search"><img src="Using%20Beautiful%20Soup%20and%20Requests_fichiers/pict_search.png"><br><span>RECHERCHE</span></a></div>
                    <div class="deroulvalues">
                        <select id="select_place" class="ddheader mlr10 ddplaces">
                            <option value="tn" selected="selected">Tunis</option>
                            <option value="dz">Alger</option>
                            <option value="ma">Casablanca</option>
                            <option value="fx">Devises</option>
                        </select>

                        <select id="dpShares" class="ddheader ddvalues">
                            
                                <option value="" selected="selected">Choisir une valeur</option>
        <option value="ADWYA">ADWYA</option>
        <option value="AETEC">AETECH</option>
        <option value="AL">AIR LIQUIDE TUNISIE</option>
        <option value="AB">AMEN BANK</option>
        <option value="AMI">AMI</option>
        <option value="AMS">AMS</option>
        <option value="ATB">ARAB TUNISIAN BANK</option>
        <option value="ATL">ARAB TUNISIAN LEASE</option>
        <option value="ARTES">ARTES</option>
        <option value="ASSAD">ASSAD</option>
        <option value="ASSMA">ASSURANCES MAGHREBIA</option>
        <option value="AST">ASTREE</option>
        <option value="TJL">ATTIJARI LEASING</option>
        <option value="TJARI">BANQUE ATTIJARI DE TUNIS</option>
        <option value="BT">BANQUE DE TUNISIE</option>
        <option value="BNA">BANQUE NATIONALE AGRICOLE</option>
        <option value="BL">BEST LEASE</option>
        <option value="BHASS">BH ASSURANCE</option>
        <option value="BH">BH BANK</option>
        <option value="BHL">BH LEASING</option>
        <option value="BIAT">BIAT</option>
        <option value="BTE">BTE (ADP)</option>
        <option value="CC">CARTHAGE CEMENT</option>
        <option value="CELL">CELLCOM</option>
        <option value="CREAL">CEREALIS</option>
        <option value="CIL">CIL</option>
        <option value="SCB">CIMENTS DE BIZERTE</option>
        <option value="CITY">CITY CARS</option>
        <option value="DH">DELICE HOLDING</option>
        <option value="ELBEN">ELBENE</option>
        <option value="LSTR">ELECTROSTAR</option>
        <option value="NAKL">ENNAKL AUTOMOBILES</option>
        <option value="SOKNA">ESSOUKNA</option>
        <option value="ECYCL">EURO-CYCLES</option>
        <option value="GIF">GIF FILTER</option>
        <option value="HL">HANNIBAL LEASE</option>
        <option value="XABYT">HEXABYTE</option>
        <option value="ICF">ICF</option>
        <option value="LNDOR">LAND'OR</option>
        <option value="MAG">MAGASIN GENERAL</option>
        <option value="AMV">MAGHREBIA VIE</option>
        <option value="SAM">MEUBLES INTERIEURS</option>
        <option value="MIP">MIP</option>
        <option value="MNP">MONOPRIX</option>
        <option value="MPBS">MPBS</option>
        <option value="NBL">NEW BODY LINE</option>
        <option value="PLAST">OFFICE PLAST</option>
        <option value="OTH">ONE TECH</option>
        <option value="PLTU">PLACEMENTS DE TUNISIE - SICAF</option>
        <option value="PGH">POULINA GROUP HOLDING</option>
        <option value="SAH">SAH</option>
        <option value="SMD">SANIMED</option>
        <option value="SERVI">SERVICOM</option>
        <option value="SFBT">SFBT</option>
        <option value="SIAME">SIAME</option>
        <option value="SIMPA">SIMPAR</option>
        <option value="SIPHA">SIPHAT</option>
        <option value="SITS">SITS</option>
        <option value="SMART">SMART TUNISIE</option>
        <option value="ALKIM">SOCIETE CHIMIQUE ALKIMIA</option>
        <option value="SOMOC">SOMOCER</option>
        <option value="SOPAT">SOPAT</option>
        <option value="SOTEM">SOTEMAIL</option>
        <option value="SOTET">SOTETEL</option>
        <option value="STPAP">SOTIPAPIER</option>
        <option value="STPIL">SOTRAPIL</option>
        <option value="MGR">SOTUMAG</option>
        <option value="SOTUV">SOTUVER</option>
        <option value="SPDIT">SPDIT - SICAF</option>
        <option value="STA">STA</option>
        <option value="STAR">STAR</option>
        <option value="STB">STB BANK</option>
        <option value="STEQ">STEQ</option>
        <option value="STIP">STIP</option>
        <option value="SPHAX">SYPHAX AIRLINES</option>
        <option value="TGH">TAWASOL</option>
        <option value="TLNET">TELNET HOLDING</option>
        <option value="TPR">TPR</option>
        <option value="PX1">TUNINDEX</option>
        <option value="TINV">TUNINVEST - SICAR</option>
        <option value="TRE">TUNIS RE</option>
        <option value="TAIR">TUNISAIR</option>
        <option value="TBIDX">TUNISIAN BOND INDEX</option>
        <option value="TLS">TUNISIE LEASING &amp; FACTORING</option>
        <option value="TVAL">TUNISIE VALEURS</option>
        <option value="UADH">UADH</option>
        <option value="UBCI">UBCI</option>
        <option value="UIB">UIB</option>
        <option value="UMED">UNIMED</option>
        <option value="WIFAK">WIFAK INT BANK</option>

                            
                        </select>
                    </div>
                    <div id="logZone">
                            <div id="logArea">
                                <p class="alct"><b>CONNECTEZ-VOUS</b></p>
                                <input id="txtPseudoMain" type="text" class="txtLog" aria-label="Nom d'utilisateur" placeholder="Nom d'utilisateur">
                                <input id="txtPassMain" type="password" class="txtLog mt15" aria-label="Mot de passe" placeholder="Mot de passe">
                                <div id="btnLogUser" class="btnR mt15">CONNEXION</div>

                                <p>
                                    <a href="https://www.ilboursa.com/users/password">Identifiant oublié ?</a><br>
                                    <a href="https://www.ilboursa.com/users/login">Créer un compte gratuit</a>
                                </p>
                            </div>
                        <div id="memberArea" class="no">
                            <p>
                                <a href="https://www.ilboursa.com/listes/displaylist">Liste de valeurs</a>
                            </p>
                            <p><a href="https://www.ilboursa.com/portif/displayp">Portefeuille virtuel</a></p>
                            <p>
                                <a href="https://www.ilboursa.com/users/compte">Mon compte</a>
                            </p>
                            <p><a href="#" id="logoutMain">Se déconnecter</a></p>
                        </div>
                    </div>
                </div>


            </div>
        </div>
    </header>

        <div id="bannerup" class="bannermain">
            <div id="div-gpt-ad-1424879557921-0" data-google-query-id="CJSUpoqx-YUDFUivJwIdxYYIbw">
    
<div id="google_ads_iframe_/112668056/banner_allsite_0__container__" style="border: 0pt; display: inline-block; width: 1000px; height: 300px;"><iframe frameborder="0" style="border: 0px; vertical-align: bottom;" src="Using%20Beautiful%20Soup%20and%20Requests_fichiers/container_003.html" id="google_ads_iframe_/112668056/banner_allsite_0" title="3rd party ad content" name="" scrolling="no" marginwidth="0" marginheight="0" width="1000" height="300" data-is-safeframe="true" sandbox="allow-forms allow-popups allow-popups-to-escape-sandbox allow-same-origin allow-scripts allow-top-navigation-by-user-activation" aria-label="Advertisement" tabindex="0" data-google-container-id="1" data-load-complete="true"></iframe></div></div>
        </div>

    <div id="skinHab">
        <div class="contentpad" id="containerPage">
            
    <table class="navbar" id="navtbl">
        <tbody><tr>
            <td><a href="https://www.ilboursa.com/marches/cotation_BH">COURS</a></td><td><a href="https://www.ilboursa.com/marches/graph/BH">GRAPHIQUES</a></td><td class="selected"><a href="https://www.ilboursa.com/marches/news_valeur?s=BH">ACTUS</a></td><td><a href="https://www.ilboursa.com/analyses/conseil/BH">ANALYSE<span class="mobno"> ET CONSEILS</span></a></td><td><a href="https://www.ilboursa.com/marches/societe/BH">SOCIETE</a></td><td><a href="https://www.ilboursa.com/marches/historiques/BH">HISTORIQUES</a></td><td><a href="https://www.ilboursa.com/marches/secteur/BH">SECTEUR</a></td><td><a href="https://www.ilboursa.com/forums/display2?id=10011">FORUM</a></td>
        </tr>
    </tbody></table>

<div class="cot_boc">La bourse de Tunis Ouvre dans 17h7min</div>
<h1 class="h1a mob26">Actualités de BH BANK - page 3</h1>
<div class="coth1"><img width="25" height="17" class="idx_dp tipt" alt="" src="Using%20Beautiful%20Soup%20and%20Requests_fichiers/tn.png" title="Tunisie"> ISIN : TN0001900604 - Ticker : BH</div>

<div class="home_content mt15 lh25">
    <div class="sq1">
        <div id="div-gpt-ad-1424879557921-1" style="width: 300px; height: 250px;" data-google-query-id="CJWUpoqx-YUDFUivJwIdxYYIbw">
    
<div id="google_ads_iframe_/112668056/square_allsite_0__container__" style="border: 0pt;"><iframe id="google_ads_iframe_/112668056/square_allsite_0" name="google_ads_iframe_/112668056/square_allsite_0" title="3rd party ad content" width="300" height="250" scrolling="no" marginwidth="0" marginheight="0" frameborder="0" style="border: 0px; vertical-align: bottom;" aria-label="Advertisement" tabindex="0" data-google-container-id="2" data-load-complete="true"></iframe></div></div>
    </div>

            <span class="sp1">31/08/22 14:01</span>
            <a href="https://www.ilboursa.com/marches/bh-bank-annonce-un-benefice-net-semestriel-de-80-millions-de-dinars-en-hausse-de-25_36333">BH Bank annonce un bénéfice net semestriel de 80 millions de dinars, en hausse de 25%</a><br>
            <span class="sp1">25/08/22 08:19</span>
            <a href="https://www.ilboursa.com/marches/le-groupe-bh-partenaire-de-la-ticad-8_36236">Le Groupe BH partenaire de la TICAD 8</a><br>
            <span class="sp1">24/08/22 09:49</span>
            <a href="https://www.ilboursa.com/marches/le-ministere-des-finances-en-quete-d-un-directeur-general-pour-la-bh-bank_36211">Le ministère des Finances en quête d'un Directeur Général pour la BH Bank</a><br>
            <span class="sp1">20/07/22 09:24</span>
            <a href="https://www.ilboursa.com/marches/bh-bank-realise-un-pnb-de-290-millions-de-dinars-au-premier-semestre_35688">BH Bank réalise un PNB de 290 millions de dinars au premier semestre</a><br>
            <span class="sp1">15/07/22 10:28</span>
            <a href="https://www.ilboursa.com/marches/bh-equity-entre-au-capital-dune-societe-specialisee-dans-la-fabrication-de-produits-aerospatiaux_35599">BH EQUITY entre au capital d’une société spécialisée dans la fabrication de produits aérospatiaux</a><br>
            <span class="sp1">21/06/22 19:24</span>
            <a href="https://www.ilboursa.com/marches/bhmpay-la-toute-nouvelle-solution-de-paiement-mobile-de-bh-bank_35249">BHMPAY, la toute nouvelle solution de paiement mobile de BH Bank</a><br>
            <span class="sp1">31/05/22 08:11</span>
            <a href="https://www.ilboursa.com/marches/lagence-de-notation-pbr-rating-octroie-a-la-bh-bank-la-note-bbb-tun-avec-perspective-positive_34863">L’agence de notation PBR Rating octroie à la BH Bank la note BBB+ (tun) avec perspective positive</a><br>
            <span class="sp1">26/05/22 08:49</span>
            <a href="https://www.ilboursa.com/marches/presence-renforcee-du-groupe-bh-bank-a-la-conference-internationale-fita-2022_34804">Présence renforcée du Groupe BH Bank à la Conférence internationale FITA 2022</a><br>
            <span class="sp1">24/05/22 19:42</span>
            <a href="https://www.ilboursa.com/marches/lassociation-sportive-de-la-bh-bank-sacree-championne-de-tunisie-de-football-feminin_34770">L’Association Sportive de la BH BANK sacrée Championne de Tunisie de football féminin</a><br>
            <span class="sp1">29/04/22 14:07</span>
            <a href="https://www.ilboursa.com/marches/la-bh-bank-poursuit-son-plan-de-developpement-avec-confiance-et-determination_34314">La BH Bank poursuit son plan de développement avec confiance et détermination</a><br>
            <span class="sp1">25/04/22 13:01</span>
            <a href="https://www.ilboursa.com/marches/bh-bank-versera-a-ses-actionnaires-un-dividende-de-0-950-dinar-par-action_34204">BH Bank versera à ses actionnaires un dividende de 0,950 dinar par action</a><br>
            <span class="sp1">20/04/22 13:18</span>
            <a href="https://www.ilboursa.com/marches/la-bh-bank-annonce-un-pnb-de-137-millions-de-dinars-au-premier-trimestre_34105">La BH Bank annonce un PNB de 137 millions de dinars au premier trimestre</a><br>
            <span class="sp1">14/04/22 15:24</span>
            <a href="https://www.ilboursa.com/marches/bh-bank-ameliore-de-85-son-benefice-net-a-135-millions-de-dinars-en-2021_34001">BH Bank améliore de 85% son bénéfice net à 135 millions de dinars en 2021</a><br>
            <span class="sp1">16/03/22 15:06</span>
            <a href="https://www.ilboursa.com/marches/bh-bank-des-fondamentaux-tres-proches-des-standards-du-secteur-prive_33420">BH Bank : Des fondamentaux très proches des standards du secteur privé</a><br>
            <span class="sp1">14/02/22 16:01</span>
            <a href="https://www.ilboursa.com/marches/bh-bank-en-quete-dun-conseiller-pour-l-accompagner-dans-son-plan-strategique_32882">BH Bank en quête d’un conseiller pour l'accompagner dans son plan stratégique</a><br>
            <span class="sp1">25/01/22 12:36</span>
            <a href="https://www.ilboursa.com/marches/bh-bank-ameliore-son-pnb-de-12-en-2021-a-pres-de-570-millions-de-dinars_32516">BH Bank améliore son PNB de 12% en 2021 à près de 570 millions de dinars</a><br>
            <span class="sp1">29/11/21 12:24</span>
            <a href="https://www.ilboursa.com/marches/one-tech-business-solution-reussit-un-projet-technologique-de-pointe-chez-la-bh-bank_31584">One Tech Business Solution réussit un projet technologique de pointe chez la BH Bank</a><br>
            <span class="sp1">19/10/21 16:46</span>
            <a href="https://www.ilboursa.com/marches/bh-bank-ameliore-de-17-son-pnb-a-fin-septembre-a-405-millions-de-dinars_30849">BH Bank améliore de 17% son PNB à fin septembre à 405 millions de dinars</a><br>
            <span class="sp1">29/09/21 10:09</span>
            <a href="https://www.ilboursa.com/marches/la-bh-bank-reaffirme-son-ouverture-sur-l-afrique_30479">La BH Bank réaffirme son ouverture sur l'Afrique</a><br>
            <span class="sp1">24/09/21 15:37</span>
            <a href="https://www.ilboursa.com/marches/bh-bank-leve-avec-succes-70-millions-de-dinars-sur-le-marche-obligataire_30411">BH Bank lève avec succès 70 millions de dinars sur le marché obligataire</a><br>
</div>
<br>

<ul id="pagin"><li><a href="https://www.ilboursa.com/marches/news_valeur?s=BH">1</a></li><li><a href="https://www.ilboursa.com/marches/news_valeur?p=2&amp;s=BH">2</a></li><li><a class="selected" href="https://www.ilboursa.com/marches/news_valeur?p=3&amp;s=BH">3</a></li><li><a href="https://www.ilboursa.com/marches/news_valeur?p=4&amp;s=BH">4</a></li><li><a href="https://www.ilboursa.com/marches/news_valeur?p=5&amp;s=BH">5</a></li><li><a href="https://www.ilboursa.com/marches/news_valeur?p=6&amp;s=BH">6</a></li><li><a href="https://www.ilboursa.com/marches/news_valeur?p=7&amp;s=BH">7</a></li><li><a href="https://www.ilboursa.com/marches/news_valeur?p=8&amp;s=BH">8</a></li><li><a href="https://www.ilboursa.com/marches/news_valeur?p=9&amp;s=BH">9</a></li><li><a href="https://www.ilboursa.com/marches/news_valeur?p=10&amp;s=BH">&gt;</a></li></ul>


        </div>
    </div>

        <div class="bannermain">
            <div id="div-gpt-ad-1616660604392-0" data-google-query-id="CJaUpoqx-YUDFUivJwIdxYYIbw">
    
<div id="google_ads_iframe_/112668056/banner_Ilb2_0__container__" style="border: 0pt; display: inline-block; width: 1000px; height: 300px;"><iframe frameborder="0" style="border: 0px; vertical-align: bottom;" src="Using%20Beautiful%20Soup%20and%20Requests_fichiers/container_003.html" id="google_ads_iframe_/112668056/banner_Ilb2_0" title="3rd party ad content" name="" scrolling="no" marginwidth="0" marginheight="0" width="1000" height="300" data-is-safeframe="true" sandbox="allow-forms allow-popups allow-popups-to-escape-sandbox allow-same-origin allow-scripts allow-top-navigation-by-user-activation" aria-label="Advertisement" tabindex="0" data-google-container-id="3" data-load-complete="true"></iframe></div></div>
        </div>

    <div class="bar1 mt37">
        <div class="footer">
            Copyright © 2012-2024 ilboursa.com - Tous droits réservés<br>
            <a href="https://www.ilboursa.com/contact">Contacter l'équipe</a> | <a href="https://www.ilboursa.com/politique_confidentialite">Notre politique de confidentialité</a> | <a href="https://www.ilboursa.com/partenaires">Les partenaires</a> | <a href="https://www.ilboursa.com/qui_sommes_nous">A propos de nous ?</a>
            <div class="foot_socials">
                <span>WE ARE SOCIAL</span><br>
                <a href="https://www.facebook.com/ilboursa/" target="_blank"><img src="Using%20Beautiful%20Soup%20and%20Requests_fichiers/facebook.png" alt="" width="27" height="27"></a>
                <a href="https://twitter.com/ilboursa" target="_blank"><img src="Using%20Beautiful%20Soup%20and%20Requests_fichiers/twit.png" alt="" width="27" height="27"></a>
                <a href="https://www.linkedin.com/groups/ilboursacom-5067897" target="_blank"><img src="Using%20Beautiful%20Soup%20and%20Requests_fichiers/linkedin.png" alt="" width="27" height="27"></a>
                <a href="https://www.youtube.com/channel/UCIWq9frqGHuOWYETcPH9V3g" target="_blank"><img src="Using%20Beautiful%20Soup%20and%20Requests_fichiers/youtube.png" alt="" width="27" height="27"></a>
            </div>
        </div>
    </div>

    <script src="Using%20Beautiful%20Soup%20and%20Requests_fichiers/jqtools29.min.js"></script>
    


    <script async="" src="Using%20Beautiful%20Soup%20and%20Requests_fichiers/js"></script>
<script>
  window.dataLayer = window.dataLayer || [];
  function gtag(){dataLayer.push(arguments);}
  gtag('js', new Date());

  gtag('config', 'G-7HQK4NNBSV');
</script><iframe src="Using%20Beautiful%20Soup%20and%20Requests_fichiers/container_003.html" style="visibility: hidden; display: none;"></iframe>

<iframe name="google_ads_top_frame" id="google_ads_top_frame" style="display: none; position: fixed; left: -999px; top: -999px; width: 0px; height: 0px;"></iframe><iframe src="Using%20Beautiful%20Soup%20and%20Requests_fichiers/aframe.html" width="0" height="0" style="display: none;"></iframe></body></html>